{
 "cells": [
  {
   "cell_type": "code",
   "execution_count": 1,
   "metadata": {
    "collapsed": false
   },
   "outputs": [
    {
     "name": "stdout",
     "output_type": "stream",
     "text": [
      "hi five!\n"
     ]
    }
   ],
   "source": [
    "import pandas\n",
    "import geopandas\n",
    "from geopandas.tools import sjoin\n",
    "from shapely.geometry import Point\n",
    "import pylab as pl\n",
    "#import code; code.interact(local=locals())\n",
    "\n",
    "print(\"hi five!\")"
   ]
  },
  {
   "cell_type": "code",
   "execution_count": 17,
   "metadata": {
    "collapsed": false
   },
   "outputs": [
    {
     "name": "stdout",
     "output_type": "stream",
     "text": [
      "data loaded\n"
     ]
    }
   ],
   "source": [
    "#-----------------------------\n",
    "# loading data as dataframes\n",
    "#-----------------------------\n",
    "suspects_df = pandas.read_csv('evidence/suspects_footprints.csv',sep=',')\n",
    "victim_df = pandas.read_csv('evidence/victims_footprints.csv',sep=',')\n",
    "print(\"data loaded\")"
   ]
  },
  {
   "cell_type": "code",
   "execution_count": 3,
   "metadata": {
    "collapsed": false
   },
   "outputs": [
    {
     "name": "stdout",
     "output_type": "stream",
     "text": [
      "dataset columns:  Index(['id', 'name', 'latitud', 'longitud'], dtype='object')\n"
     ]
    }
   ],
   "source": [
    "#-----------------------------\n",
    "# having fun with data\n",
    "#-----------------------------\n",
    "# columns available on dataset\n",
    "columns\t\t=\tsuspects_df.columns\n",
    "print(\"dataset columns: \",columns)"
   ]
  },
  {
   "cell_type": "code",
   "execution_count": 13,
   "metadata": {
    "collapsed": false
   },
   "outputs": [
    {
     "name": "stdout",
     "output_type": "stream",
     "text": [
      "dataset header:     id    name    latitud   longitud\n",
      "0   1  martha  19.429522 -99.163396\n",
      "1   2  Martha  19.427084 -99.167527\n",
      "2   3  Martha  19.424635 -99.171057\n",
      "3   4  Martha  19.423593 -99.208554\n",
      "4   5  Martha  19.431212 -99.157806\n",
      "5   6  Martha  19.427165 -99.149856\n",
      "6   7  Martha  19.426801 -99.139674\n",
      "7   8  Martha  19.426801 -99.139674\n",
      "8   9  Martha  19.373200 -99.155909\n",
      "9  10    Beth  19.353470 -99.175356\n"
     ]
    }
   ],
   "source": [
    "# head of dataset\n",
    "header \t\t=\tsuspects_df.head(10)\n",
    "print(\"dataset header: \",header)"
   ]
  },
  {
   "cell_type": "code",
   "execution_count": 47,
   "metadata": {
    "collapsed": false
   },
   "outputs": [
    {
     "name": "stdout",
     "output_type": "stream",
     "text": [
      "dataset dtypes:  id            int64\n",
      "name         object\n",
      "latitud     float64\n",
      "longitud    float64\n",
      "geometry     object\n",
      "dtype: object\n"
     ]
    }
   ],
   "source": [
    "# dtypes\n",
    "dtypes \t\t=\tsuspects_df.dtypes\n",
    "print(\"dataset dtypes: \",dtypes)"
   ]
  },
  {
   "cell_type": "code",
   "execution_count": 14,
   "metadata": {
    "collapsed": false
   },
   "outputs": [
    {
     "name": "stdout",
     "output_type": "stream",
     "text": [
      "suspects:  ['martha' 'Martha' 'Beth' 'John' 'Jacob']\n",
      "have fun: done!\n"
     ]
    }
   ],
   "source": [
    "#unique elements\n",
    "print(\"suspects: \",suspects_df['name'].unique())\n",
    "print(\"have fun: done!\")"
   ]
  },
  {
   "cell_type": "code",
   "execution_count": 33,
   "metadata": {
    "collapsed": false
   },
   "outputs": [
    {
     "name": "stdout",
     "output_type": "stream",
     "text": [
      "suspects:  ['martha' 'Martha' 'Beth' 'John' 'Jacob']\n"
     ]
    }
   ],
   "source": [
    "#-----------------------------\n",
    "# loading data as geodataframes\n",
    "#-----------------------------\n",
    "crs \t\t\t\t=\t{'init': 'epsg:4326'}\n",
    "\n",
    "#suspects\n",
    "geometry \t\t\t=\t[Point(xy) for xy in zip(suspects_df.longitud, suspects_df.latitud)]\n",
    "suspects_gdf\t\t=\tgeopandas.GeoDataFrame(suspects_df, crs=crs, geometry=geometry)\n",
    "\n",
    "#victim\n",
    "geometry \t\t\t=\t[Point(xy) for xy in zip(victim_df.longitud, victim_df.latitud)]\n",
    "victim_gdf\t\t\t=\tgeopandas.GeoDataFrame(victim_df, crs=crs, geometry=geometry)\n",
    "\n",
    "#-----------------------------\n",
    "# manipulating data\n",
    "#-----------------------------\n",
    "\n",
    "#slicing usung conditions\n",
    "beth \t\t\t\t=\tsuspects_gdf[suspects_gdf['name']=='Beth']\n",
    "john \t\t\t\t=\tsuspects_gdf[suspects_gdf['name']=='John']\n",
    "jacob \t\t\t\t=\tsuspects_gdf[suspects_gdf['name']=='Jacob']\n",
    "lorraine \t\t\t= \tvictim_gdf[victim_gdf['name']=='Lorraine']\n",
    "martha \t\t\t\t=\tsuspects_gdf[(suspects_gdf['name']=='Martha')|(suspects_gdf['name']=='martha')]\n",
    "#manipulation row values\n",
    "suspects_gdf['name']=\tsuspects_gdf['name'].str.title()#st.lower()#str.upper()\n",
    "\n",
    "martha \t\t\t\t=\tsuspects_gdf[suspects_gdf['name']=='Martha']\n",
    "print(\"suspects: \",suspects_df['name'].unique())"
   ]
  },
  {
   "cell_type": "code",
   "execution_count": 34,
   "metadata": {
    "collapsed": false
   },
   "outputs": [],
   "source": [
    "#check\n",
    "#-----------------------------\n",
    "# visualizing\n",
    "#-----------------------------\n",
    "#visualizing using CartoDB\n",
    "suspects_gdf.to_file('results/suspects_footprints/suspects_footprints.shp')\n",
    "victim_gdf.to_file('results/victims_footprints/victims_footprints.shp')"
   ]
  },
  {
   "cell_type": "code",
   "execution_count": 41,
   "metadata": {
    "collapsed": false
   },
   "outputs": [
    {
     "data": {
      "text/plain": [
       "Index(['id', 'name', 'latitud', 'longitud', 'geometry', 'index_right',\n",
       "       'CVE_ENT', 'CVE_MUN', 'NOM_MUN', 'Name', 'd_cp'],\n",
       "      dtype='object')"
      ]
     },
     "execution_count": 41,
     "metadata": {},
     "output_type": "execute_result"
    }
   ],
   "source": [
    "#-----------------------------\n",
    "# spatial JOINS \n",
    "#-----------------------------\n",
    "#load settlements\n",
    "polygons \t\t\t=\t\tgeopandas.GeoDataFrame.from_file('settlements/settlements_CDMX.shp')\n",
    "points_in_polys \t= \t\tsjoin(suspects_gdf, polygons, how='left')\n",
    "\n",
    "#new geodataframe inspection\n",
    "points_in_polys.columns"
   ]
  },
  {
   "cell_type": "code",
   "execution_count": 46,
   "metadata": {
    "collapsed": false
   },
   "outputs": [
    {
     "data": {
      "image/png": "[encoded data removed]",
      "text/plain": [
       "<matplotlib.figure.Figure at 0x187969c7b70>"
      ]
     },
     "metadata": {},
     "output_type": "display_data"
    }
   ],
   "source": [
    "polygons.plot()\n",
    "pl.show()"
   ]
  },
  {
   "cell_type": "code",
   "execution_count": null,
   "metadata": {
    "collapsed": false
   },
   "outputs": [],
   "source": []
  },
  {
   "cell_type": "code",
   "execution_count": null,
   "metadata": {
    "collapsed": true
   },
   "outputs": [],
   "source": []
  }
 ],
 "metadata": {
  "anaconda-cloud": {},
  "kernelspec": {
   "display_name": "Python [snakes]",
   "language": "python",
   "name": "Python [snakes]"
  },
  "language_info": {
   "codemirror_mode": {
    "name": "ipython",
    "version": 3
   },
   "file_extension": ".py",
   "mimetype": "text/x-python",
   "name": "python",
   "nbconvert_exporter": "python",
   "pygments_lexer": "ipython3",
   "version": "3.6.1"
  }
 },
 "nbformat": 4,
 "nbformat_minor": 0
}
